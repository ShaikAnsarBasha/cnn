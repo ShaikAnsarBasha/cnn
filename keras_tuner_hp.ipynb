{
 "cells": [
  {
   "cell_type": "code",
   "execution_count": 15,
   "id": "capital-uniform",
   "metadata": {},
   "outputs": [],
   "source": [
    "import tensorflow as tf\n",
    "from tensorflow import keras\n",
    "import numpy as np\n",
    "import pandas as pd"
   ]
  },
  {
   "cell_type": "code",
   "execution_count": 2,
   "id": "administrative-canada",
   "metadata": {},
   "outputs": [
    {
     "name": "stdout",
     "output_type": "stream",
     "text": [
      "2.4.1\n"
     ]
    }
   ],
   "source": [
    "print(tf.__version__)"
   ]
  },
  {
   "cell_type": "code",
   "execution_count": 3,
   "id": "straight-paper",
   "metadata": {},
   "outputs": [],
   "source": [
    "fashion_mnist = keras.datasets.fashion_mnist"
   ]
  },
  {
   "cell_type": "code",
   "execution_count": 28,
   "id": "handmade-lloyd",
   "metadata": {},
   "outputs": [],
   "source": [
    "(X_train, y_train), (X_test, y_test) = fashion_mnist.load_data()"
   ]
  },
  {
   "cell_type": "code",
   "execution_count": 5,
   "id": "athletic-gross",
   "metadata": {},
   "outputs": [
    {
     "data": {
      "text/plain": [
       "(60000, 28, 28)"
      ]
     },
     "execution_count": 5,
     "metadata": {},
     "output_type": "execute_result"
    }
   ],
   "source": [
    "X_train.shape"
   ]
  },
  {
   "cell_type": "code",
   "execution_count": 6,
   "id": "following-commitment",
   "metadata": {},
   "outputs": [
    {
     "data": {
      "text/plain": [
       "(10000, 28, 28)"
      ]
     },
     "execution_count": 6,
     "metadata": {},
     "output_type": "execute_result"
    }
   ],
   "source": [
    "X_test.shape"
   ]
  },
  {
   "cell_type": "code",
   "execution_count": 7,
   "id": "imposed-willow",
   "metadata": {},
   "outputs": [
    {
     "data": {
      "text/plain": [
       "(60000, 28, 28, 1)"
      ]
     },
     "execution_count": 7,
     "metadata": {},
     "output_type": "execute_result"
    }
   ],
   "source": [
    "X_train = X_train.reshape(X_train.shape + (1,))\n",
    "X_test = X_test.reshape(X_test.shape + (1,))\n",
    "X_train.shape"
   ]
  },
  {
   "cell_type": "code",
   "execution_count": 8,
   "id": "beautiful-charge",
   "metadata": {},
   "outputs": [
    {
     "data": {
      "text/plain": [
       "(10000, 28, 28, 1)"
      ]
     },
     "execution_count": 8,
     "metadata": {},
     "output_type": "execute_result"
    }
   ],
   "source": [
    "X_test.shape"
   ]
  },
  {
   "cell_type": "code",
   "execution_count": 16,
   "id": "front-matter",
   "metadata": {},
   "outputs": [
    {
     "data": {
      "text/plain": [
       "0    6000\n",
       "1    6000\n",
       "2    6000\n",
       "3    6000\n",
       "4    6000\n",
       "5    6000\n",
       "6    6000\n",
       "7    6000\n",
       "8    6000\n",
       "9    6000\n",
       "dtype: int64"
      ]
     },
     "execution_count": 16,
     "metadata": {},
     "output_type": "execute_result"
    }
   ],
   "source": [
    "pd.DataFrame(y_train).value_counts()"
   ]
  },
  {
   "cell_type": "code",
   "execution_count": 9,
   "id": "representative-bachelor",
   "metadata": {},
   "outputs": [],
   "source": [
    "# hp is nothig but hyperparameter since we are using kerastuner it will automatically get initialized\n",
    "# the function name is our choice but function structure is predefined \n",
    "# we can also customize the below function as our requirement\n",
    "# to get more info refer to https://keras-team.github.io/keras-tuner/\n",
    "def build_model(hp):  \n",
    "  model = keras.Sequential([\n",
    "    keras.layers.Conv2D(\n",
    "        # 'conv_1_filter' is the name of filter\n",
    "        # 32 is minimum no of filter and 128 is maximum no of filters\n",
    "        # here hp.Int is taken because it need to fetch all values continuously\n",
    "        filters=hp.Int('conv_1_filter', min_value=32, max_value=128, step=16),\n",
    "        # kernel_size it will choose either 3 or 5\n",
    "        # here hp.Choice is taken because it will choose 3 or 5\n",
    "        kernel_size=hp.Choice('conv_1_kernel', values = [3,5]),\n",
    "        activation='relu',\n",
    "        input_shape=(28,28,1)\n",
    "    ),\n",
    "      \n",
    "    keras.layers.Conv2D(\n",
    "        filters=hp.Int('conv_2_filter', min_value=32, max_value=64, step=16),\n",
    "        kernel_size=hp.Choice('conv_2_kernel', values = [3,5]),\n",
    "        activation='relu'\n",
    "    ),\n",
    "      \n",
    "    keras.layers.Flatten(),\n",
    "    keras.layers.Dense(\n",
    "        units=hp.Int('dense_1_units', min_value=32, max_value=128, step=16),\n",
    "        activation='relu'\n",
    "    ),\n",
    "    # there are total 10 classes from 0 to 9\n",
    "    keras.layers.Dense(10, activation='softmax')\n",
    "  ])\n",
    "  \n",
    "  model.compile(optimizer=keras.optimizers.Adam(hp.Choice('learning_rate', values=[1e-2, 1e-3])),\n",
    "              loss='sparse_categorical_crossentropy',\n",
    "              metrics=['accuracy'])\n",
    "  \n",
    "  return model"
   ]
  },
  {
   "cell_type": "code",
   "execution_count": 10,
   "id": "specific-quantum",
   "metadata": {},
   "outputs": [],
   "source": [
    "from kerastuner import RandomSearch\n",
    "from kerastuner.engine.hyperparameters import HyperParameters"
   ]
  },
  {
   "cell_type": "code",
   "execution_count": 17,
   "id": "turned-shanghai",
   "metadata": {},
   "outputs": [],
   "source": [
    "# build model is name of function created above which is used as the parameter\n",
    "# objective is on which basis the optimization must take place\n",
    "# max trails is no of trails\n",
    "# in each and every trail it will give us one model with good accuracy\n",
    "# directory parameter will create a 'output' folder in current working directory\n",
    "# inside the 'output' directory 'MnistFashion' directory is created\n",
    "tuner_search = RandomSearch(build_model,\n",
    "                          objective='val_accuracy',\n",
    "                          max_trials=5,\n",
    "                          directory='output',\n",
    "                          project_name=\"MnistFashion\")"
   ]
  },
  {
   "cell_type": "code",
   "execution_count": 18,
   "id": "adolescent-kazakhstan",
   "metadata": {},
   "outputs": [
    {
     "name": "stdout",
     "output_type": "stream",
     "text": [
      "Trial 5 Complete [00h 03m 07s]\n",
      "val_accuracy: 0.7786666750907898\n",
      "\n",
      "Best val_accuracy So Far: 0.8828333616256714\n",
      "Total elapsed time: 00h 12m 22s\n",
      "INFO:tensorflow:Oracle triggered exit\n"
     ]
    }
   ],
   "source": [
    "# initially we run for small epochs after we get good model with best params we run for many epochs\n",
    "tuner_search.search(X_train, y_train, epochs=3, validation_split=0.1)"
   ]
  },
  {
   "cell_type": "code",
   "execution_count": 19,
   "id": "opening-mirror",
   "metadata": {},
   "outputs": [],
   "source": [
    "# num_models gives no of best models in 5 trails if it is set to 1 we need one model\n",
    "model = tuner_search.get_best_models(num_models=1)"
   ]
  },
  {
   "cell_type": "code",
   "execution_count": 22,
   "id": "electronic-highway",
   "metadata": {},
   "outputs": [
    {
     "data": {
      "text/plain": [
       "1"
      ]
     },
     "execution_count": 22,
     "metadata": {},
     "output_type": "execute_result"
    }
   ],
   "source": [
    "len(model)"
   ]
  },
  {
   "cell_type": "code",
   "execution_count": 23,
   "id": "taken-quick",
   "metadata": {},
   "outputs": [
    {
     "data": {
      "text/plain": [
       "list"
      ]
     },
     "execution_count": 23,
     "metadata": {},
     "output_type": "execute_result"
    }
   ],
   "source": [
    "type(model)"
   ]
  },
  {
   "cell_type": "code",
   "execution_count": 24,
   "id": "selected-remove",
   "metadata": {},
   "outputs": [],
   "source": [
    "# now model is type of list lets give indexing and get first model\n",
    "model = tuner_search.get_best_models(num_models=1)[0]"
   ]
  },
  {
   "cell_type": "code",
   "execution_count": 25,
   "id": "persistent-contrast",
   "metadata": {},
   "outputs": [
    {
     "data": {
      "text/plain": [
       "tensorflow.python.keras.engine.sequential.Sequential"
      ]
     },
     "execution_count": 25,
     "metadata": {},
     "output_type": "execute_result"
    }
   ],
   "source": [
    "type(model)"
   ]
  },
  {
   "cell_type": "code",
   "execution_count": 26,
   "id": "adjustable-hollywood",
   "metadata": {},
   "outputs": [
    {
     "name": "stdout",
     "output_type": "stream",
     "text": [
      "Model: \"sequential\"\n",
      "_________________________________________________________________\n",
      "Layer (type)                 Output Shape              Param #   \n",
      "=================================================================\n",
      "conv2d (Conv2D)              (None, 24, 24, 64)        1664      \n",
      "_________________________________________________________________\n",
      "conv2d_1 (Conv2D)            (None, 20, 20, 32)        51232     \n",
      "_________________________________________________________________\n",
      "flatten (Flatten)            (None, 12800)             0         \n",
      "_________________________________________________________________\n",
      "dense (Dense)                (None, 48)                614448    \n",
      "_________________________________________________________________\n",
      "dense_1 (Dense)              (None, 10)                490       \n",
      "=================================================================\n",
      "Total params: 667,834\n",
      "Trainable params: 667,834\n",
      "Non-trainable params: 0\n",
      "_________________________________________________________________\n"
     ]
    }
   ],
   "source": [
    "# now model is sequential type\n",
    "model.summary()"
   ]
  },
  {
   "cell_type": "code",
   "execution_count": 27,
   "id": "athletic-bacteria",
   "metadata": {},
   "outputs": [
    {
     "name": "stdout",
     "output_type": "stream",
     "text": [
      "Epoch 4/10\n",
      "1688/1688 [==============================] - 39s 22ms/step - loss: 0.2815 - accuracy: 0.8952 - val_loss: 0.3451 - val_accuracy: 0.8777\n",
      "Epoch 5/10\n",
      "1688/1688 [==============================] - 36s 21ms/step - loss: 0.2484 - accuracy: 0.9065 - val_loss: 0.3258 - val_accuracy: 0.8850\n",
      "Epoch 6/10\n",
      "1688/1688 [==============================] - 35s 21ms/step - loss: 0.2269 - accuracy: 0.9158 - val_loss: 0.3620 - val_accuracy: 0.8788\n",
      "Epoch 7/10\n",
      "1688/1688 [==============================] - 37s 22ms/step - loss: 0.1901 - accuracy: 0.9292 - val_loss: 0.3581 - val_accuracy: 0.8812\n",
      "Epoch 8/10\n",
      "1688/1688 [==============================] - 35s 21ms/step - loss: 0.1551 - accuracy: 0.9431 - val_loss: 0.3794 - val_accuracy: 0.8885\n",
      "Epoch 9/10\n",
      "1688/1688 [==============================] - 31s 18ms/step - loss: 0.1454 - accuracy: 0.9474 - val_loss: 0.4159 - val_accuracy: 0.8865\n",
      "Epoch 10/10\n",
      "1688/1688 [==============================] - 34s 20ms/step - loss: 0.1268 - accuracy: 0.9552 - val_loss: 0.4849 - val_accuracy: 0.8895\n"
     ]
    },
    {
     "data": {
      "text/plain": [
       "<tensorflow.python.keras.callbacks.History at 0x284ef8d4ee0>"
      ]
     },
     "execution_count": 27,
     "metadata": {},
     "output_type": "execute_result"
    }
   ],
   "source": [
    "# by providing initial_epoch it will train after that epoch. So our training starts from 4th epoch\n",
    "# because our model is trained till 3 epochs\n",
    "# now the below model is model out of 5 trails it will choose best model\n",
    "model.fit(X_train, y_train, epochs=10, validation_split=0.1, initial_epoch=3)"
   ]
  },
  {
   "cell_type": "code",
   "execution_count": null,
   "id": "little-guest",
   "metadata": {},
   "outputs": [],
   "source": []
  }
 ],
 "metadata": {
  "kernelspec": {
   "display_name": "Python 3",
   "language": "python",
   "name": "python3"
  },
  "language_info": {
   "codemirror_mode": {
    "name": "ipython",
    "version": 3
   },
   "file_extension": ".py",
   "mimetype": "text/x-python",
   "name": "python",
   "nbconvert_exporter": "python",
   "pygments_lexer": "ipython3",
   "version": "3.8.0"
  }
 },
 "nbformat": 4,
 "nbformat_minor": 5
}
